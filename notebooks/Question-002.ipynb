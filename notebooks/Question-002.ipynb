{
 "cells": [
  {
   "cell_type": "markdown",
   "metadata": {},
   "source": [
    "# User Question 002\n",
    "\n",
    "A new user asks:\n",
    "> We have the notion of a list of electrodes, which would fit nicely into an Electrode table, but then data are taken from groups of electrodes at a time (e.g. a tetrode, a 32 channel shank of a polymer probe, etc). Neurodata Without Borders (nwb.org) handles that with a table that indicates, for every data object, which electrodes were included.  How are these sorts of references possible in DataJoint? \n",
    "\n",
    "Similar designs have been deployed by many DataJoint-based ephys schemas. \n",
    "For example, here is on from the International Brain Lab https://github.com/int-brain-lab/IBL-pipeline/blob/master/ibl_pipeline/ephys.py\n",
    "and another from the Mesoscale Activity Project https://github.com/mesoscale-activity-map/map-ephys/blob/master/pipeline/ephys.py\n",
    "These schemas were designed to closely match NWB conventions and names.\n",
    "\n",
    "Let's define a minimal example:"
   ]
  },
  {
   "cell_type": "markdown",
   "metadata": {},
   "source": [
    "First, let's work with an existing schema defining experiment sessions and we will add ephys probes in our new schema within this notebook. \n",
    "\n",
    "Imagine that the schema designed in [User Question 001](Question-001.ipynb) can is defined in a module called `experiment.py`. Then we would be able to import it as \n",
    "\n",
    "```python\n",
    "import experiment\n",
    "```\n",
    "\n",
    "and access all its tables.\n",
    "\n",
    "However, that schema was defined in a notebook. DataJoint provides function `dj.create_virtual_module` to mimic importing a virtual module by reconstructing it from the tables in the database."
   ]
  },
  {
   "cell_type": "code",
   "execution_count": 11,
   "metadata": {},
   "outputs": [],
   "source": [
    "import datajoint as dj\n",
    "experiment = dj.create_virtual_module('experiment', 'test_question001')"
   ]
  },
  {
   "cell_type": "markdown",
   "metadata": {},
   "source": [
    "We can view the schema from [User Question 1](Question-001.ipynb), and access any of its data:"
   ]
  },
  {
   "cell_type": "markdown",
   "metadata": {},
   "source": [
    "First, let's define the `User` set to contain all the lab members who will conduct experiments and we will populate it with a few names."
   ]
  },
  {
   "cell_type": "code",
   "execution_count": 10,
   "metadata": {},
   "outputs": [
    {
     "data": {
      "image/svg+xml": [
       "<svg height=\"114pt\" viewBox=\"0.00 0.00 252.00 114.00\" width=\"252pt\" xmlns=\"http://www.w3.org/2000/svg\" xmlns:xlink=\"http://www.w3.org/1999/xlink\">\n",
       "<g class=\"graph\" id=\"graph0\" transform=\"scale(1 1) rotate(0) translate(4 110)\">\n",
       "<title>%3</title>\n",
       "<polygon fill=\"#ffffff\" points=\"-4,4 -4,-110 248,-110 248,4 -4,4\" stroke=\"transparent\"/>\n",
       "<!-- experiment.User -->\n",
       "<g class=\"node\" id=\"node1\">\n",
       "<title>experiment.User</title>\n",
       "<g id=\"a_node1\"><a xlink:title=\"username             \r",
       "------------------------------\r",
       "full_name=&quot;&quot;         \r",
       "\">\n",
       "<polygon fill=\"#00ff00\" fill-opacity=\"0.188235\" points=\"104,-106 0,-106 0,-71 104,-71 104,-106\" stroke=\"#00ff00\" stroke-opacity=\"0.188235\"/>\n",
       "<text fill=\"#006400\" font-family=\"arial\" font-size=\"12.00\" text-anchor=\"start\" text-decoration=\"underline\" x=\"8\" y=\"-86.4\">experiment.User</text>\n",
       "</a>\n",
       "</g>\n",
       "</g>\n",
       "<!-- experiment.Experimenter -->\n",
       "<g class=\"node\" id=\"node2\">\n",
       "<title>experiment.Experimenter</title>\n",
       "<g id=\"a_node2\"><a xlink:title=\"→ experiment.Session\r",
       "→ experiment.User\r",
       "\">\n",
       "<polygon fill=\"#00ff00\" fill-opacity=\"0.188235\" points=\"192,-35 42,-35 42,0 192,0 192,-35\" stroke=\"#00ff00\" stroke-opacity=\"0.188235\"/>\n",
       "<text fill=\"#006400\" font-family=\"arial\" font-size=\"12.00\" text-anchor=\"middle\" x=\"117\" y=\"-14.4\">experiment.Experimenter</text>\n",
       "</a>\n",
       "</g>\n",
       "</g>\n",
       "<!-- experiment.User&#45;&gt;experiment.Experimenter -->\n",
       "<g class=\"edge\" id=\"edge1\">\n",
       "<title>experiment.User-&gt;experiment.Experimenter</title>\n",
       "<path d=\"M68.0674,-70.9494C77.9924,-60.1083 90.6919,-46.2366 100.6659,-35.3418\" fill=\"none\" stroke=\"#000000\" stroke-opacity=\"0.250980\" stroke-width=\".75\"/>\n",
       "</g>\n",
       "<!-- experiment.Session -->\n",
       "<g class=\"node\" id=\"node3\">\n",
       "<title>experiment.Session</title>\n",
       "<g id=\"a_node3\"><a xlink:title=\"session              \r",
       "------------------------------\r",
       "session_date         \r",
       "\">\n",
       "<polygon fill=\"#00ff00\" fill-opacity=\"0.188235\" points=\"244,-106 122,-106 122,-71 244,-71 244,-106\" stroke=\"#00ff00\" stroke-opacity=\"0.188235\"/>\n",
       "<text fill=\"#006400\" font-family=\"arial\" font-size=\"12.00\" text-anchor=\"start\" text-decoration=\"underline\" x=\"130\" y=\"-86.4\">experiment.Session</text>\n",
       "</a>\n",
       "</g>\n",
       "</g>\n",
       "<!-- experiment.Session&#45;&gt;experiment.Experimenter -->\n",
       "<g class=\"edge\" id=\"edge2\">\n",
       "<title>experiment.Session-&gt;experiment.Experimenter</title>\n",
       "<path d=\"M166.6854,-70.9494C156.6078,-60.1083 143.7129,-46.2366 133.5854,-35.3418\" fill=\"none\" stroke=\"#000000\" stroke-opacity=\"0.250980\" stroke-width=\".75\"/>\n",
       "</g>\n",
       "</g>\n",
       "</svg>"
      ],
      "text/plain": [
       "<datajoint.diagram.Diagram at 0x7f63cd8f3e48>"
      ]
     },
     "execution_count": 10,
     "metadata": {},
     "output_type": "execute_result"
    }
   ],
   "source": [
    "dj.Diagram(experiment)"
   ]
  },
  {
   "cell_type": "code",
   "execution_count": 12,
   "metadata": {},
   "outputs": [
    {
     "data": {
      "text/html": [
       "\n",
       "        \n",
       "        <style type=\"text/css\">\n",
       "            .Relation{\n",
       "                border-collapse:collapse;\n",
       "            }\n",
       "            .Relation th{\n",
       "                background: #A0A0A0; color: #ffffff; padding:4px; border:#f0e0e0 1px solid;\n",
       "                font-weight: normal; font-family: monospace; font-size: 100%;\n",
       "            }\n",
       "            .Relation td{\n",
       "                padding:4px; border:#f0e0e0 1px solid; font-size:100%;\n",
       "            }\n",
       "            .Relation tr:nth-child(odd){\n",
       "                background: #ffffff;\n",
       "            }\n",
       "            .Relation tr:nth-child(even){\n",
       "                background: #f3f1ff;\n",
       "            }\n",
       "            /* Tooltip container */\n",
       "            .djtooltip {\n",
       "            }\n",
       "            /* Tooltip text */\n",
       "            .djtooltip .djtooltiptext {\n",
       "                visibility: hidden;\n",
       "                width: 120px;\n",
       "                background-color: black;\n",
       "                color: #fff;\n",
       "                text-align: center;\n",
       "                padding: 5px 0;\n",
       "                border-radius: 6px;\n",
       "                /* Position the tooltip text - see examples below! */\n",
       "                position: absolute;\n",
       "                z-index: 1;\n",
       "            }\n",
       "            #primary {\n",
       "                font-weight: bold;\n",
       "                color: black;\n",
       "            }\n",
       "\n",
       "            #nonprimary {\n",
       "                font-weight: normal;\n",
       "                color: white;\n",
       "            }\n",
       "\n",
       "            /* Show the tooltip text when you mouse over the tooltip container */\n",
       "            .djtooltip:hover .djtooltiptext {\n",
       "                visibility: visible;\n",
       "            }\n",
       "        </style>\n",
       "        \n",
       "        <b>Experiment session</b>\n",
       "            <div style=\"max-height:1000px;max-width:1500px;overflow:auto;\">\n",
       "            <table border=\"1\" class=\"Relation\">\n",
       "                <thead> <tr style=\"text-align: right;\"> <th> <div class=\"djtooltip\">\n",
       "                                <p id=\"primary\">session</p>\n",
       "                                <span class=\"djtooltiptext\">session number</span>\n",
       "                            </div></th><th><div class=\"djtooltip\">\n",
       "                                <p id=\"nonprimary\">session_date</p>\n",
       "                                <span class=\"djtooltiptext\"></span>\n",
       "                            </div> </th> </tr> </thead>\n",
       "                <tbody> <tr> <td>1</td>\n",
       "<td>2018-04-09</td></tr><tr><td>2</td>\n",
       "<td>2019-02-07</td></tr><tr><td>3</td>\n",
       "<td>2019-03-31</td> </tr> </tbody>\n",
       "            </table>\n",
       "            \n",
       "            <p>Total: 3</p></div>\n",
       "            "
      ],
      "text/plain": [
       "*session    session_date  \n",
       "+---------+ +------------+\n",
       "1           2018-04-09    \n",
       "2           2019-02-07    \n",
       "3           2019-03-31    \n",
       " (Total: 3)"
      ]
     },
     "execution_count": 12,
     "metadata": {},
     "output_type": "execute_result"
    }
   ],
   "source": [
    "experiment.Session()"
   ]
  },
  {
   "cell_type": "markdown",
   "metadata": {},
   "source": [
    "Now let's define a new schema for working with electrophysiology probes for the experiment session."
   ]
  },
  {
   "cell_type": "code",
   "execution_count": 15,
   "metadata": {},
   "outputs": [],
   "source": [
    "schema = dj.schema('test_question002')"
   ]
  },
  {
   "cell_type": "markdown",
   "metadata": {},
   "source": [
    "Let's define the `Probe` set to define various available probes. We choose to define as a lookup table, meaning that its contents is fairly static and is populated from the `contents` property of its class."
   ]
  },
  {
   "cell_type": "code",
   "execution_count": 18,
   "metadata": {},
   "outputs": [],
   "source": [
    "@schema\n",
    "class Probe(dj.Lookup):\n",
    "    definition = \"\"\"\n",
    "    # Ephys probe\n",
    "    probe_part_no  :  varchar(20)\n",
    "    ---\n",
    "    probe_type : varchar(32)\n",
    "    probe_comment :  varchar(4000)\n",
    "    \"\"\"\n",
    "    contents = [\n",
    "        ('15131808323', 'neuropixels probe O3', ''),\n",
    "        ('H-194', 'janelia2x32', '')\n",
    "    ]"
   ]
  },
  {
   "cell_type": "markdown",
   "metadata": {},
   "source": [
    "Now let's define the `ElectrodeGroup` for a given session. These are electrodes on a probe. Multiple groups can be used in a single session. Hence, we add the `electrode_group` attribute to the primary key. We add `Probe` as a secondary attribute. We then add the `Electrode` set as a [part table](https://docs.datajoint.io/python/computation/03-master-part.html) of `ElectrodeGroup`."
   ]
  },
  {
   "cell_type": "code",
   "execution_count": 19,
   "metadata": {},
   "outputs": [],
   "source": [
    "@schema\n",
    "class ElectrodeGroup(dj.Manual):\n",
    "    definition = \"\"\"\n",
    "    # Electrode\n",
    "    -> experiment.Session\n",
    "    electrode_group : tinyint # Electrode_group is like the probe\n",
    "    ---\n",
    "    -> Probe\n",
    "    \"\"\"\n",
    "\n",
    "    class Electrode(dj.Part):\n",
    "        definition = \"\"\"\n",
    "        -> master\n",
    "        electrode : smallint # sites on the electrode\n",
    "        \"\"\""
   ]
  },
  {
   "cell_type": "markdown",
   "metadata": {},
   "source": [
    "Here is the entire pipeline with both schemas:"
   ]
  },
  {
   "cell_type": "code",
   "execution_count": 20,
   "metadata": {},
   "outputs": [
    {
     "data": {
      "image/svg+xml": [
       "<svg height=\"169pt\" viewBox=\"0.00 0.00 313.00 169.00\" width=\"313pt\" xmlns=\"http://www.w3.org/2000/svg\" xmlns:xlink=\"http://www.w3.org/1999/xlink\">\n",
       "<g class=\"graph\" id=\"graph0\" transform=\"scale(1 1) rotate(0) translate(4 165)\">\n",
       "<title>%3</title>\n",
       "<polygon fill=\"#ffffff\" points=\"-4,4 -4,-165 309,-165 309,4 -4,4\" stroke=\"transparent\"/>\n",
       "<!-- Probe -->\n",
       "<g class=\"node\" id=\"node1\">\n",
       "<title>Probe</title>\n",
       "<g id=\"a_node1\"><a xlink:title=\"probe_part_no        \r",
       "------------------------------\r",
       "probe_type           \r",
       "probe_comment        \r",
       "\">\n",
       "<polygon fill=\"#000000\" fill-opacity=\"0.125490\" points=\"42,-161 0,-161 0,-126 42,-126 42,-161\" stroke=\"transparent\"/>\n",
       "<text fill=\"#000000\" font-family=\"arial\" font-size=\"10.00\" text-anchor=\"start\" text-decoration=\"underline\" x=\"8\" y=\"-142\">Probe</text>\n",
       "</a>\n",
       "</g>\n",
       "</g>\n",
       "<!-- ElectrodeGroup -->\n",
       "<g class=\"node\" id=\"node2\">\n",
       "<title>ElectrodeGroup</title>\n",
       "<g id=\"a_node2\"><a xlink:title=\"→ experiment.Session\r",
       "electrode_group      \r",
       "------------------------------\r",
       "→ Probe\r",
       "\">\n",
       "<polygon fill=\"#00ff00\" fill-opacity=\"0.188235\" points=\"114.5,-90 13.5,-90 13.5,-55 114.5,-55 114.5,-90\" stroke=\"#00ff00\" stroke-opacity=\"0.188235\"/>\n",
       "<text fill=\"#006400\" font-family=\"arial\" font-size=\"12.00\" text-anchor=\"start\" text-decoration=\"underline\" x=\"21.5\" y=\"-70.4\">ElectrodeGroup</text>\n",
       "</a>\n",
       "</g>\n",
       "</g>\n",
       "<!-- Probe&#45;&gt;ElectrodeGroup -->\n",
       "<g class=\"edge\" id=\"edge1\">\n",
       "<title>Probe-&gt;ElectrodeGroup</title>\n",
       "<path d=\"M31.6292,-125.9494C38.1949,-115.1083 46.5962,-101.2366 53.1944,-90.3418\" fill=\"none\" stroke=\"#000000\" stroke-dasharray=\"5,2\" stroke-opacity=\"0.250980\" stroke-width=\".75\"/>\n",
       "</g>\n",
       "<!-- ElectrodeGroup.Electrode -->\n",
       "<g class=\"node\" id=\"node6\">\n",
       "<title>ElectrodeGroup.Electrode</title>\n",
       "<g id=\"a_node6\"><a xlink:title=\"→ ElectrodeGroup\r",
       "electrode            \r",
       "\">\n",
       "<polygon fill=\"transparent\" points=\"128,-19 0,-19 0,0 128,0 128,-19\" stroke=\"transparent\"/>\n",
       "<text fill=\"#000000\" font-family=\"arial\" font-size=\"10.00\" text-anchor=\"start\" text-decoration=\"underline\" x=\"8\" y=\"-8\">ElectrodeGroup.Electrode</text>\n",
       "</a>\n",
       "</g>\n",
       "</g>\n",
       "<!-- ElectrodeGroup&#45;&gt;ElectrodeGroup.Electrode -->\n",
       "<g class=\"edge\" id=\"edge2\">\n",
       "<title>ElectrodeGroup-&gt;ElectrodeGroup.Electrode</title>\n",
       "<path d=\"M64,-54.951C64,-43.4459 64,-28.8292 64,-19.3243\" fill=\"none\" stroke=\"#000000\" stroke-opacity=\"0.250980\" stroke-width=\".75\"/>\n",
       "</g>\n",
       "<!-- experiment.Experimenter -->\n",
       "<g class=\"node\" id=\"node3\">\n",
       "<title>experiment.Experimenter</title>\n",
       "<g id=\"a_node3\"><a xlink:title=\"→ experiment.Session\r",
       "→ experiment.User\r",
       "\">\n",
       "<polygon fill=\"#00ff00\" fill-opacity=\"0.188235\" points=\"305,-90 155,-90 155,-55 305,-55 305,-90\" stroke=\"#00ff00\" stroke-opacity=\"0.188235\"/>\n",
       "<text fill=\"#006400\" font-family=\"arial\" font-size=\"12.00\" text-anchor=\"middle\" x=\"230\" y=\"-69.4\">experiment.Experimenter</text>\n",
       "</a>\n",
       "</g>\n",
       "</g>\n",
       "<!-- experiment.Session -->\n",
       "<g class=\"node\" id=\"node4\">\n",
       "<title>experiment.Session</title>\n",
       "<g id=\"a_node4\"><a xlink:title=\"session              \r",
       "------------------------------\r",
       "session_date         \r",
       "\">\n",
       "<polygon fill=\"#00ff00\" fill-opacity=\"0.188235\" points=\"182,-161 60,-161 60,-126 182,-126 182,-161\" stroke=\"#00ff00\" stroke-opacity=\"0.188235\"/>\n",
       "<text fill=\"#006400\" font-family=\"arial\" font-size=\"12.00\" text-anchor=\"middle\" x=\"121\" y=\"-140.4\">experiment.Session</text>\n",
       "</a>\n",
       "</g>\n",
       "</g>\n",
       "<!-- experiment.Session&#45;&gt;ElectrodeGroup -->\n",
       "<g class=\"edge\" id=\"edge3\">\n",
       "<title>experiment.Session-&gt;ElectrodeGroup</title>\n",
       "<path d=\"M106.9101,-125.9494C98.2067,-115.1083 87.0702,-101.2366 78.3237,-90.3418\" fill=\"none\" stroke=\"#000000\" stroke-opacity=\"0.250980\" stroke-width=\".75\"/>\n",
       "</g>\n",
       "<!-- experiment.Session&#45;&gt;experiment.Experimenter -->\n",
       "<g class=\"edge\" id=\"edge4\">\n",
       "<title>experiment.Session-&gt;experiment.Experimenter</title>\n",
       "<path d=\"M147.9438,-125.9494C164.7133,-115.0262 186.2062,-101.0262 202.9884,-90.0947\" fill=\"none\" stroke=\"#000000\" stroke-opacity=\"0.250980\" stroke-width=\".75\"/>\n",
       "</g>\n",
       "<!-- experiment.User -->\n",
       "<g class=\"node\" id=\"node5\">\n",
       "<title>experiment.User</title>\n",
       "<g id=\"a_node5\"><a xlink:title=\"username             \r",
       "------------------------------\r",
       "full_name=&quot;&quot;         \r",
       "\">\n",
       "<polygon fill=\"#00ff00\" fill-opacity=\"0.188235\" points=\"304,-161 200,-161 200,-126 304,-126 304,-161\" stroke=\"#00ff00\" stroke-opacity=\"0.188235\"/>\n",
       "<text fill=\"#006400\" font-family=\"arial\" font-size=\"12.00\" text-anchor=\"middle\" x=\"252\" y=\"-140.4\">experiment.User</text>\n",
       "</a>\n",
       "</g>\n",
       "</g>\n",
       "<!-- experiment.User&#45;&gt;experiment.Experimenter -->\n",
       "<g class=\"edge\" id=\"edge5\">\n",
       "<title>experiment.User-&gt;experiment.Experimenter</title>\n",
       "<path d=\"M246.5618,-125.9494C243.2026,-115.1083 238.9043,-101.2366 235.5285,-90.3418\" fill=\"none\" stroke=\"#000000\" stroke-opacity=\"0.250980\" stroke-width=\".75\"/>\n",
       "</g>\n",
       "</g>\n",
       "</svg>"
      ],
      "text/plain": [
       "<datajoint.diagram.Diagram at 0x7f63cd7aa128>"
      ]
     },
     "execution_count": 20,
     "metadata": {},
     "output_type": "execute_result"
    }
   ],
   "source": [
    "dj.Diagram(schema) + dj.Diagram(experiment)"
   ]
  },
  {
   "cell_type": "markdown",
   "metadata": {},
   "source": [
    "Let's populate an electrode group for Session 1 with 32 electrodes"
   ]
  },
  {
   "cell_type": "code",
   "execution_count": 24,
   "metadata": {},
   "outputs": [],
   "source": [
    "key = dict(session=2, electrode_group=1)\n",
    "ElectrodeGroup.insert1(dict(key, probe_part_no='H-194'))\n",
    "ElectrodeGroup.Electrode.insert(dict(key, electrode=i) for i in range(32))"
   ]
  },
  {
   "cell_type": "markdown",
   "metadata": {},
   "source": [
    "Here is the result:"
   ]
  },
  {
   "cell_type": "code",
   "execution_count": 26,
   "metadata": {},
   "outputs": [
    {
     "data": {
      "text/html": [
       "\n",
       "        \n",
       "        <style type=\"text/css\">\n",
       "            .Relation{\n",
       "                border-collapse:collapse;\n",
       "            }\n",
       "            .Relation th{\n",
       "                background: #A0A0A0; color: #ffffff; padding:4px; border:#f0e0e0 1px solid;\n",
       "                font-weight: normal; font-family: monospace; font-size: 100%;\n",
       "            }\n",
       "            .Relation td{\n",
       "                padding:4px; border:#f0e0e0 1px solid; font-size:100%;\n",
       "            }\n",
       "            .Relation tr:nth-child(odd){\n",
       "                background: #ffffff;\n",
       "            }\n",
       "            .Relation tr:nth-child(even){\n",
       "                background: #f3f1ff;\n",
       "            }\n",
       "            /* Tooltip container */\n",
       "            .djtooltip {\n",
       "            }\n",
       "            /* Tooltip text */\n",
       "            .djtooltip .djtooltiptext {\n",
       "                visibility: hidden;\n",
       "                width: 120px;\n",
       "                background-color: black;\n",
       "                color: #fff;\n",
       "                text-align: center;\n",
       "                padding: 5px 0;\n",
       "                border-radius: 6px;\n",
       "                /* Position the tooltip text - see examples below! */\n",
       "                position: absolute;\n",
       "                z-index: 1;\n",
       "            }\n",
       "            #primary {\n",
       "                font-weight: bold;\n",
       "                color: black;\n",
       "            }\n",
       "\n",
       "            #nonprimary {\n",
       "                font-weight: normal;\n",
       "                color: white;\n",
       "            }\n",
       "\n",
       "            /* Show the tooltip text when you mouse over the tooltip container */\n",
       "            .djtooltip:hover .djtooltiptext {\n",
       "                visibility: visible;\n",
       "            }\n",
       "        </style>\n",
       "        \n",
       "        \n",
       "            <div style=\"max-height:1000px;max-width:1500px;overflow:auto;\">\n",
       "            <table border=\"1\" class=\"Relation\">\n",
       "                <thead> <tr style=\"text-align: right;\"> <th> <div class=\"djtooltip\">\n",
       "                                <p id=\"primary\">session</p>\n",
       "                                <span class=\"djtooltiptext\">session number</span>\n",
       "                            </div></th><th><div class=\"djtooltip\">\n",
       "                                <p id=\"primary\">electrode_group</p>\n",
       "                                <span class=\"djtooltiptext\">Electrode_group is like the probe</span>\n",
       "                            </div></th><th><div class=\"djtooltip\">\n",
       "                                <p id=\"primary\">electrode</p>\n",
       "                                <span class=\"djtooltiptext\">sites on the electrode</span>\n",
       "                            </div></th><th><div class=\"djtooltip\">\n",
       "                                <p id=\"nonprimary\">probe_part_no</p>\n",
       "                                <span class=\"djtooltiptext\"></span>\n",
       "                            </div> </th> </tr> </thead>\n",
       "                <tbody> <tr> <td>2</td>\n",
       "<td>1</td>\n",
       "<td>0</td>\n",
       "<td>H-194</td></tr><tr><td>2</td>\n",
       "<td>1</td>\n",
       "<td>1</td>\n",
       "<td>H-194</td></tr><tr><td>2</td>\n",
       "<td>1</td>\n",
       "<td>2</td>\n",
       "<td>H-194</td></tr><tr><td>2</td>\n",
       "<td>1</td>\n",
       "<td>3</td>\n",
       "<td>H-194</td></tr><tr><td>2</td>\n",
       "<td>1</td>\n",
       "<td>4</td>\n",
       "<td>H-194</td></tr><tr><td>2</td>\n",
       "<td>1</td>\n",
       "<td>5</td>\n",
       "<td>H-194</td></tr><tr><td>2</td>\n",
       "<td>1</td>\n",
       "<td>6</td>\n",
       "<td>H-194</td> </tr> </tbody>\n",
       "            </table>\n",
       "            <p>...</p>\n",
       "            <p>Total: 32</p></div>\n",
       "            "
      ],
      "text/plain": [
       "*session    *electrode_gro *electrode    probe_part_no \n",
       "+---------+ +------------+ +-----------+ +------------+\n",
       "2           1              0             H-194         \n",
       "2           1              1             H-194         \n",
       "2           1              2             H-194         \n",
       "2           1              3             H-194         \n",
       "2           1              4             H-194         \n",
       "2           1              5             H-194         \n",
       "2           1              6             H-194         \n",
       "   ...\n",
       " (Total: 32)"
      ]
     },
     "execution_count": 26,
     "metadata": {},
     "output_type": "execute_result"
    }
   ],
   "source": [
    "ElectrodeGroup * ElectrodeGroup.Electrode & key"
   ]
  },
  {
   "cell_type": "markdown",
   "metadata": {},
   "source": [
    "Have fun with DataJoint!"
   ]
  }
 ],
 "metadata": {
  "kernelspec": {
   "display_name": "Python 3",
   "language": "python",
   "name": "python3"
  },
  "language_info": {
   "codemirror_mode": {
    "name": "ipython",
    "version": 3
   },
   "file_extension": ".py",
   "mimetype": "text/x-python",
   "name": "python",
   "nbconvert_exporter": "python",
   "pygments_lexer": "ipython3",
   "version": "3.6.7"
  }
 },
 "nbformat": 4,
 "nbformat_minor": 2
}
