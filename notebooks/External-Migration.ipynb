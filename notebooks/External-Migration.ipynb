{
 "cells": [
  {
   "cell_type": "markdown",
   "metadata": {},
   "source": [
    "# Migration of External Storage from DataJoint 0.11.* to 0.12.*\n",
    "DataJoint 0.12 improves the efficiency of blob storage and expands its capabilities. Unfortunately, this breaks backward compatibility for external storage used in previous versions. This notebook describes the migration procedure from a 0.11 external store.\n",
    "\n",
    "First, let's emulate an legacy table with external storage. You do not need to perform these steps if you are migrating an existing database. I `git`-cloned `datajoint-python` as a subfolder in the datajoint folder, checked out the legacy version `v0.11.1`, and renamed the subfolder into `dj011`. This allows me to import the legacy version of datajoint while keeping the current version available as well:"
   ]
  },
  {
   "cell_type": "code",
   "execution_count": 1,
   "metadata": {},
   "outputs": [],
   "source": [
    "import dj011 as dj   # legacy version of datajoint"
   ]
  },
  {
   "cell_type": "code",
   "execution_count": 2,
   "metadata": {},
   "outputs": [
    {
     "data": {
      "text/plain": [
       "'0.11.1'"
      ]
     },
     "execution_count": 2,
     "metadata": {},
     "output_type": "execute_result"
    }
   ],
   "source": [
    "dj.__version__"
   ]
  },
  {
   "cell_type": "code",
   "execution_count": 3,
   "metadata": {},
   "outputs": [],
   "source": [
    "dj.config['database.password'] = 'datajoint'\n",
    "dj.config['database.user'] = 'datajoint'\n",
    "dj.config['database.host'] = 'localhost'"
   ]
  },
  {
   "cell_type": "code",
   "execution_count": 4,
   "metadata": {},
   "outputs": [
    {
     "name": "stdout",
     "output_type": "stream",
     "text": [
      "Connecting datajoint@localhost:3306\n",
      "Proceed to delete entire schema `djtest_blobs`? [yes, No]: yes\n"
     ]
    }
   ],
   "source": [
    "schema = dj.schema('djtest_blobs')\n",
    "schema.drop()\n",
    "schema = dj.schema('djtest_blobs')"
   ]
  },
  {
   "cell_type": "code",
   "execution_count": 5,
   "metadata": {},
   "outputs": [],
   "source": [
    "# Configure stores\n",
    "import os \n",
    "\n",
    "dj.config['external'] = dict(\n",
    "    protocol='s3',\n",
    "    endpoint=\"localhost:9000\",\n",
    "    bucket='migrate-test',\n",
    "    location='store',\n",
    "    access_key=\"datajoint\",\n",
    "    secret_key=\"datajoint\")\n",
    "\n",
    "dj.config['external-shared'] = dict(\n",
    "    protocol='s3',\n",
    "    endpoint=\"localhost:9000\",\n",
    "    bucket='migrate-test',\n",
    "    location='maps',\n",
    "    access_key=\"datajoint\",\n",
    "    secret_key=\"datajoint\")\n",
    "\n",
    "dj.config['external-local'] = dict(\n",
    "    protocol='file',\n",
    "    location=os.path.expanduser('~/temp/migrate-test'),\n",
    "    access_key=\"datajoint\",\n",
    "    secret_key=\"datajoint\")\n",
    "\n",
    "\n",
    "dj.config['cache'] = os.path.expanduser('~/temp/dj-cache')"
   ]
  },
  {
   "cell_type": "markdown",
   "metadata": {},
   "source": [
    "Now let's define the legacy-style table with external blobs:"
   ]
  },
  {
   "cell_type": "code",
   "execution_count": 6,
   "metadata": {},
   "outputs": [],
   "source": [
    "@schema\n",
    "class A(dj.Manual):\n",
    "    definition = \"\"\"\n",
    "    id : int \n",
    "    ---\n",
    "    blob_external : external    # uses S3\n",
    "    blob_share : external-shared   # uses S3\n",
    "    \"\"\"\n",
    "\n",
    "@schema\n",
    "class B(dj.Manual):\n",
    "    definition = \"\"\"\n",
    "    id : int \n",
    "    ---\n",
    "    blob_local : external-local    # uses files\n",
    "    blob_share : external-shared   # uses S3\n",
    "    \"\"\""
   ]
  },
  {
   "cell_type": "code",
   "execution_count": 7,
   "metadata": {},
   "outputs": [],
   "source": [
    "import numpy as np"
   ]
  },
  {
   "cell_type": "code",
   "execution_count": 8,
   "metadata": {},
   "outputs": [],
   "source": [
    "A.insert((\n",
    "    (0, np.random.randn(2,3,4), np.random.randn(3)),\n",
    "    (1, np.array([1,2,3]), np.array([1,2]))\n",
    "))\n",
    "\n",
    "B.insert((\n",
    "    (0, np.random.randn(2,3,4), np.random.randn(3)),\n",
    "    (1, np.array([1,2,3]), np.array([1,2]))\n",
    "))"
   ]
  },
  {
   "cell_type": "markdown",
   "metadata": {},
   "source": [
    "# Upgrade legacy blobs\n",
    "(restart kernel)"
   ]
  },
  {
   "cell_type": "code",
   "execution_count": 1,
   "metadata": {},
   "outputs": [],
   "source": [
    "import datajoint as dj"
   ]
  },
  {
   "cell_type": "code",
   "execution_count": 2,
   "metadata": {},
   "outputs": [
    {
     "data": {
      "text/plain": [
       "'0.12.dev4'"
      ]
     },
     "execution_count": 2,
     "metadata": {},
     "output_type": "execute_result"
    }
   ],
   "source": [
    "dj.__version__"
   ]
  },
  {
   "cell_type": "code",
   "execution_count": 3,
   "metadata": {},
   "outputs": [],
   "source": [
    "dj.config['database.password'] = 'datajoint'\n",
    "dj.config['database.user'] = 'datajoint'\n",
    "dj.config['database.host'] = 'localhost'"
   ]
  },
  {
   "cell_type": "code",
   "execution_count": 4,
   "metadata": {},
   "outputs": [
    {
     "name": "stdout",
     "output_type": "stream",
     "text": [
      "Connecting datajoint@localhost:3306\n"
     ]
    }
   ],
   "source": [
    "schema = dj.schema('djtest_blobs')\n",
    "query = schema.connection.query"
   ]
  },
  {
   "cell_type": "code",
   "execution_count": 5,
   "metadata": {},
   "outputs": [],
   "source": [
    "# Configure stores\n",
    "import os \n",
    "\n",
    "default_store = 'external'  # naming the unnamed external store\n",
    "\n",
    "dj.config['stores'] = {\n",
    "    \n",
    "    default_store: dict(\n",
    "        protocol='s3',\n",
    "        endpoint=\"localhost:9000\",\n",
    "        bucket='migrate-test',\n",
    "        location='store',\n",
    "        access_key=\"datajoint\",\n",
    "        secret_key=\"datajoint\"),\n",
    "    \n",
    "    'shared': dict(\n",
    "        protocol='s3',\n",
    "        endpoint=\"localhost:9000\",\n",
    "        bucket='migrate-test',\n",
    "        location='maps',\n",
    "        access_key=\"datajoint\",\n",
    "        secret_key=\"datajoint\"),\n",
    "    \n",
    "    'local': dict(\n",
    "        protocol='file',\n",
    "        location=os.path.expanduser('~/temp/migrate-test'))\n",
    "}\n",
    "\n",
    "dj.config['cache'] = os.path.expanduser('~/temp/dj-cache')"
   ]
  },
  {
   "cell_type": "code",
   "execution_count": 6,
   "metadata": {},
   "outputs": [],
   "source": [
    "@schema\n",
    "class C(dj.Manual):\n",
    "    definition = \"\"\"\n",
    "    id : int\n",
    "    ---\n",
    "    blo : blob@shared   # just a check\n",
    "    \"\"\"\n",
    "    "
   ]
  },
  {
   "cell_type": "code",
   "execution_count": 7,
   "metadata": {},
   "outputs": [
    {
     "name": "stdout",
     "output_type": "stream",
     "text": [
      "id                   : int                          \n",
      "---\n",
      "blo                  : blob@shared                  # just a check\n",
      "INDEX (blo)\n",
      "\n"
     ]
    }
   ],
   "source": [
    "C.describe();"
   ]
  },
  {
   "cell_type": "code",
   "execution_count": 8,
   "metadata": {},
   "outputs": [],
   "source": [
    "schema.spawn_missing_classes()"
   ]
  },
  {
   "cell_type": "code",
   "execution_count": 9,
   "metadata": {},
   "outputs": [
    {
     "ename": "DataJointError",
     "evalue": "Legacy datatype `external`.",
     "output_type": "error",
     "traceback": [
      "\u001b[0;31m---------------------------------------------------------------------------\u001b[0m",
      "\u001b[0;31mDataJointError\u001b[0m                            Traceback (most recent call last)",
      "\u001b[0;32m~/.local/lib/python3.6/site-packages/IPython/core/formatters.py\u001b[0m in \u001b[0;36m__call__\u001b[0;34m(self, obj)\u001b[0m\n\u001b[1;32m    700\u001b[0m                 \u001b[0mtype_pprinters\u001b[0m\u001b[0;34m=\u001b[0m\u001b[0mself\u001b[0m\u001b[0;34m.\u001b[0m\u001b[0mtype_printers\u001b[0m\u001b[0;34m,\u001b[0m\u001b[0;34m\u001b[0m\u001b[0;34m\u001b[0m\u001b[0m\n\u001b[1;32m    701\u001b[0m                 deferred_pprinters=self.deferred_printers)\n\u001b[0;32m--> 702\u001b[0;31m             \u001b[0mprinter\u001b[0m\u001b[0;34m.\u001b[0m\u001b[0mpretty\u001b[0m\u001b[0;34m(\u001b[0m\u001b[0mobj\u001b[0m\u001b[0;34m)\u001b[0m\u001b[0;34m\u001b[0m\u001b[0;34m\u001b[0m\u001b[0m\n\u001b[0m\u001b[1;32m    703\u001b[0m             \u001b[0mprinter\u001b[0m\u001b[0;34m.\u001b[0m\u001b[0mflush\u001b[0m\u001b[0;34m(\u001b[0m\u001b[0;34m)\u001b[0m\u001b[0;34m\u001b[0m\u001b[0;34m\u001b[0m\u001b[0m\n\u001b[1;32m    704\u001b[0m             \u001b[0;32mreturn\u001b[0m \u001b[0mstream\u001b[0m\u001b[0;34m.\u001b[0m\u001b[0mgetvalue\u001b[0m\u001b[0;34m(\u001b[0m\u001b[0;34m)\u001b[0m\u001b[0;34m\u001b[0m\u001b[0;34m\u001b[0m\u001b[0m\n",
      "\u001b[0;32m~/.local/lib/python3.6/site-packages/IPython/lib/pretty.py\u001b[0m in \u001b[0;36mpretty\u001b[0;34m(self, obj)\u001b[0m\n\u001b[1;32m    400\u001b[0m                         \u001b[0;32mif\u001b[0m \u001b[0mcls\u001b[0m \u001b[0;32mis\u001b[0m \u001b[0;32mnot\u001b[0m \u001b[0mobject\u001b[0m\u001b[0;31m \u001b[0m\u001b[0;31m\\\u001b[0m\u001b[0;34m\u001b[0m\u001b[0;34m\u001b[0m\u001b[0m\n\u001b[1;32m    401\u001b[0m                                 \u001b[0;32mand\u001b[0m \u001b[0mcallable\u001b[0m\u001b[0;34m(\u001b[0m\u001b[0mcls\u001b[0m\u001b[0;34m.\u001b[0m\u001b[0m__dict__\u001b[0m\u001b[0;34m.\u001b[0m\u001b[0mget\u001b[0m\u001b[0;34m(\u001b[0m\u001b[0;34m'__repr__'\u001b[0m\u001b[0;34m)\u001b[0m\u001b[0;34m)\u001b[0m\u001b[0;34m:\u001b[0m\u001b[0;34m\u001b[0m\u001b[0;34m\u001b[0m\u001b[0m\n\u001b[0;32m--> 402\u001b[0;31m                             \u001b[0;32mreturn\u001b[0m \u001b[0m_repr_pprint\u001b[0m\u001b[0;34m(\u001b[0m\u001b[0mobj\u001b[0m\u001b[0;34m,\u001b[0m \u001b[0mself\u001b[0m\u001b[0;34m,\u001b[0m \u001b[0mcycle\u001b[0m\u001b[0;34m)\u001b[0m\u001b[0;34m\u001b[0m\u001b[0;34m\u001b[0m\u001b[0m\n\u001b[0m\u001b[1;32m    403\u001b[0m \u001b[0;34m\u001b[0m\u001b[0m\n\u001b[1;32m    404\u001b[0m             \u001b[0;32mreturn\u001b[0m \u001b[0m_default_pprint\u001b[0m\u001b[0;34m(\u001b[0m\u001b[0mobj\u001b[0m\u001b[0;34m,\u001b[0m \u001b[0mself\u001b[0m\u001b[0;34m,\u001b[0m \u001b[0mcycle\u001b[0m\u001b[0;34m)\u001b[0m\u001b[0;34m\u001b[0m\u001b[0;34m\u001b[0m\u001b[0m\n",
      "\u001b[0;32m~/.local/lib/python3.6/site-packages/IPython/lib/pretty.py\u001b[0m in \u001b[0;36m_repr_pprint\u001b[0;34m(obj, p, cycle)\u001b[0m\n\u001b[1;32m    695\u001b[0m     \u001b[0;34m\"\"\"A pprint that just redirects to the normal repr function.\"\"\"\u001b[0m\u001b[0;34m\u001b[0m\u001b[0;34m\u001b[0m\u001b[0m\n\u001b[1;32m    696\u001b[0m     \u001b[0;31m# Find newlines and replace them with p.break_()\u001b[0m\u001b[0;34m\u001b[0m\u001b[0;34m\u001b[0m\u001b[0;34m\u001b[0m\u001b[0m\n\u001b[0;32m--> 697\u001b[0;31m     \u001b[0moutput\u001b[0m \u001b[0;34m=\u001b[0m \u001b[0mrepr\u001b[0m\u001b[0;34m(\u001b[0m\u001b[0mobj\u001b[0m\u001b[0;34m)\u001b[0m\u001b[0;34m\u001b[0m\u001b[0;34m\u001b[0m\u001b[0m\n\u001b[0m\u001b[1;32m    698\u001b[0m     \u001b[0;32mfor\u001b[0m \u001b[0midx\u001b[0m\u001b[0;34m,\u001b[0m\u001b[0moutput_line\u001b[0m \u001b[0;32min\u001b[0m \u001b[0menumerate\u001b[0m\u001b[0;34m(\u001b[0m\u001b[0moutput\u001b[0m\u001b[0;34m.\u001b[0m\u001b[0msplitlines\u001b[0m\u001b[0;34m(\u001b[0m\u001b[0;34m)\u001b[0m\u001b[0;34m)\u001b[0m\u001b[0;34m:\u001b[0m\u001b[0;34m\u001b[0m\u001b[0;34m\u001b[0m\u001b[0m\n\u001b[1;32m    699\u001b[0m         \u001b[0;32mif\u001b[0m \u001b[0midx\u001b[0m\u001b[0;34m:\u001b[0m\u001b[0;34m\u001b[0m\u001b[0;34m\u001b[0m\u001b[0m\n",
      "\u001b[0;32m~/dev/datajoint-python/datajoint/expression.py\u001b[0m in \u001b[0;36m__repr__\u001b[0;34m(self)\u001b[0m\n\u001b[1;32m    393\u001b[0m \u001b[0;34m\u001b[0m\u001b[0m\n\u001b[1;32m    394\u001b[0m     \u001b[0;32mdef\u001b[0m \u001b[0m__repr__\u001b[0m\u001b[0;34m(\u001b[0m\u001b[0mself\u001b[0m\u001b[0;34m)\u001b[0m\u001b[0;34m:\u001b[0m\u001b[0;34m\u001b[0m\u001b[0;34m\u001b[0m\u001b[0m\n\u001b[0;32m--> 395\u001b[0;31m         \u001b[0;32mreturn\u001b[0m \u001b[0msuper\u001b[0m\u001b[0;34m(\u001b[0m\u001b[0;34m)\u001b[0m\u001b[0;34m.\u001b[0m\u001b[0m__repr__\u001b[0m\u001b[0;34m(\u001b[0m\u001b[0;34m)\u001b[0m \u001b[0;32mif\u001b[0m \u001b[0mconfig\u001b[0m\u001b[0;34m[\u001b[0m\u001b[0;34m'loglevel'\u001b[0m\u001b[0;34m]\u001b[0m\u001b[0;34m.\u001b[0m\u001b[0mlower\u001b[0m\u001b[0;34m(\u001b[0m\u001b[0;34m)\u001b[0m \u001b[0;34m==\u001b[0m \u001b[0;34m'debug'\u001b[0m \u001b[0;32melse\u001b[0m \u001b[0mself\u001b[0m\u001b[0;34m.\u001b[0m\u001b[0mpreview\u001b[0m\u001b[0;34m(\u001b[0m\u001b[0;34m)\u001b[0m\u001b[0;34m\u001b[0m\u001b[0;34m\u001b[0m\u001b[0m\n\u001b[0m\u001b[1;32m    396\u001b[0m \u001b[0;34m\u001b[0m\u001b[0m\n\u001b[1;32m    397\u001b[0m     \u001b[0;32mdef\u001b[0m \u001b[0mpreview\u001b[0m\u001b[0;34m(\u001b[0m\u001b[0mself\u001b[0m\u001b[0;34m,\u001b[0m \u001b[0mlimit\u001b[0m\u001b[0;34m=\u001b[0m\u001b[0;32mNone\u001b[0m\u001b[0;34m,\u001b[0m \u001b[0mwidth\u001b[0m\u001b[0;34m=\u001b[0m\u001b[0;32mNone\u001b[0m\u001b[0;34m)\u001b[0m\u001b[0;34m:\u001b[0m\u001b[0;34m\u001b[0m\u001b[0;34m\u001b[0m\u001b[0m\n",
      "\u001b[0;32m~/dev/datajoint-python/datajoint/expression.py\u001b[0m in \u001b[0;36mpreview\u001b[0;34m(self, limit, width)\u001b[0m\n\u001b[1;32m    399\u001b[0m         \u001b[0mreturns\u001b[0m \u001b[0ma\u001b[0m \u001b[0mpreview\u001b[0m \u001b[0mof\u001b[0m \u001b[0mthe\u001b[0m \u001b[0mcontents\u001b[0m \u001b[0mof\u001b[0m \u001b[0mthe\u001b[0m \u001b[0mquery\u001b[0m\u001b[0;34m.\u001b[0m\u001b[0;34m\u001b[0m\u001b[0;34m\u001b[0m\u001b[0m\n\u001b[1;32m    400\u001b[0m         \"\"\"\n\u001b[0;32m--> 401\u001b[0;31m         \u001b[0mheading\u001b[0m \u001b[0;34m=\u001b[0m \u001b[0mself\u001b[0m\u001b[0;34m.\u001b[0m\u001b[0mheading\u001b[0m\u001b[0;34m\u001b[0m\u001b[0;34m\u001b[0m\u001b[0m\n\u001b[0m\u001b[1;32m    402\u001b[0m         \u001b[0mrel\u001b[0m \u001b[0;34m=\u001b[0m \u001b[0mself\u001b[0m\u001b[0;34m.\u001b[0m\u001b[0mproj\u001b[0m\u001b[0;34m(\u001b[0m\u001b[0;34m*\u001b[0m\u001b[0mheading\u001b[0m\u001b[0;34m.\u001b[0m\u001b[0mnon_blobs\u001b[0m\u001b[0;34m)\u001b[0m\u001b[0;34m\u001b[0m\u001b[0;34m\u001b[0m\u001b[0m\n\u001b[1;32m    403\u001b[0m         \u001b[0;32mif\u001b[0m \u001b[0mlimit\u001b[0m \u001b[0;32mis\u001b[0m \u001b[0;32mNone\u001b[0m\u001b[0;34m:\u001b[0m\u001b[0;34m\u001b[0m\u001b[0;34m\u001b[0m\u001b[0m\n",
      "\u001b[0;32m~/dev/datajoint-python/datajoint/table.py\u001b[0m in \u001b[0;36mheading\u001b[0;34m(self)\u001b[0m\n\u001b[1;32m     52\u001b[0m                     'Missing schema decorator on the class? (e.g. @schema)')\n\u001b[1;32m     53\u001b[0m             \u001b[0;32melse\u001b[0m\u001b[0;34m:\u001b[0m\u001b[0;34m\u001b[0m\u001b[0;34m\u001b[0m\u001b[0m\n\u001b[0;32m---> 54\u001b[0;31m                 \u001b[0mself\u001b[0m\u001b[0;34m.\u001b[0m\u001b[0m_heading\u001b[0m\u001b[0;34m.\u001b[0m\u001b[0minit_from_database\u001b[0m\u001b[0;34m(\u001b[0m\u001b[0mself\u001b[0m\u001b[0;34m.\u001b[0m\u001b[0mconnection\u001b[0m\u001b[0;34m,\u001b[0m \u001b[0mself\u001b[0m\u001b[0;34m.\u001b[0m\u001b[0mdatabase\u001b[0m\u001b[0;34m,\u001b[0m \u001b[0mself\u001b[0m\u001b[0;34m.\u001b[0m\u001b[0mtable_name\u001b[0m\u001b[0;34m)\u001b[0m\u001b[0;34m\u001b[0m\u001b[0;34m\u001b[0m\u001b[0m\n\u001b[0m\u001b[1;32m     55\u001b[0m         \u001b[0;32mreturn\u001b[0m \u001b[0mself\u001b[0m\u001b[0;34m.\u001b[0m\u001b[0m_heading\u001b[0m\u001b[0;34m\u001b[0m\u001b[0;34m\u001b[0m\u001b[0m\n\u001b[1;32m     56\u001b[0m \u001b[0;34m\u001b[0m\u001b[0m\n",
      "\u001b[0;32m~/dev/datajoint-python/datajoint/heading.py\u001b[0m in \u001b[0;36minit_from_database\u001b[0;34m(self, conn, database, table_name)\u001b[0m\n\u001b[1;32m    227\u001b[0m                 \u001b[0;32mexcept\u001b[0m \u001b[0mStopIteration\u001b[0m\u001b[0;34m:\u001b[0m\u001b[0;34m\u001b[0m\u001b[0;34m\u001b[0m\u001b[0m\n\u001b[1;32m    228\u001b[0m                     \u001b[0;32mif\u001b[0m \u001b[0mattr\u001b[0m\u001b[0;34m[\u001b[0m\u001b[0;34m'type'\u001b[0m\u001b[0;34m]\u001b[0m\u001b[0;34m.\u001b[0m\u001b[0mstartswith\u001b[0m\u001b[0;34m(\u001b[0m\u001b[0;34m'external'\u001b[0m\u001b[0;34m)\u001b[0m\u001b[0;34m:\u001b[0m\u001b[0;34m\u001b[0m\u001b[0;34m\u001b[0m\u001b[0m\n\u001b[0;32m--> 229\u001b[0;31m                         \u001b[0;32mraise\u001b[0m \u001b[0mDataJointError\u001b[0m\u001b[0;34m(\u001b[0m\u001b[0;34m'Legacy datatype `{type}`.'\u001b[0m\u001b[0;34m.\u001b[0m\u001b[0mformat\u001b[0m\u001b[0;34m(\u001b[0m\u001b[0;34m**\u001b[0m\u001b[0mattr\u001b[0m\u001b[0;34m)\u001b[0m\u001b[0;34m)\u001b[0m \u001b[0;32mfrom\u001b[0m \u001b[0;32mNone\u001b[0m\u001b[0;34m\u001b[0m\u001b[0;34m\u001b[0m\u001b[0m\n\u001b[0m\u001b[1;32m    230\u001b[0m                     \u001b[0;32mraise\u001b[0m \u001b[0mDataJointError\u001b[0m\u001b[0;34m(\u001b[0m\u001b[0;34m'Unknown attribute type `{type}`'\u001b[0m\u001b[0;34m.\u001b[0m\u001b[0mformat\u001b[0m\u001b[0;34m(\u001b[0m\u001b[0;34m**\u001b[0m\u001b[0mattr\u001b[0m\u001b[0;34m)\u001b[0m\u001b[0;34m)\u001b[0m \u001b[0;32mfrom\u001b[0m \u001b[0;32mNone\u001b[0m\u001b[0;34m\u001b[0m\u001b[0;34m\u001b[0m\u001b[0m\n\u001b[1;32m    231\u001b[0m                 attr.update(\n",
      "\u001b[0;31mDataJointError\u001b[0m: Legacy datatype `external`."
     ]
    },
    {
     "ename": "DataJointError",
     "evalue": "Legacy datatype `external`.",
     "output_type": "error",
     "traceback": [
      "\u001b[0;31m---------------------------------------------------------------------------\u001b[0m",
      "\u001b[0;31mDataJointError\u001b[0m                            Traceback (most recent call last)",
      "\u001b[0;32m~/.local/lib/python3.6/site-packages/IPython/core/formatters.py\u001b[0m in \u001b[0;36m__call__\u001b[0;34m(self, obj)\u001b[0m\n\u001b[1;32m    343\u001b[0m             \u001b[0mmethod\u001b[0m \u001b[0;34m=\u001b[0m \u001b[0mget_real_method\u001b[0m\u001b[0;34m(\u001b[0m\u001b[0mobj\u001b[0m\u001b[0;34m,\u001b[0m \u001b[0mself\u001b[0m\u001b[0;34m.\u001b[0m\u001b[0mprint_method\u001b[0m\u001b[0;34m)\u001b[0m\u001b[0;34m\u001b[0m\u001b[0;34m\u001b[0m\u001b[0m\n\u001b[1;32m    344\u001b[0m             \u001b[0;32mif\u001b[0m \u001b[0mmethod\u001b[0m \u001b[0;32mis\u001b[0m \u001b[0;32mnot\u001b[0m \u001b[0;32mNone\u001b[0m\u001b[0;34m:\u001b[0m\u001b[0;34m\u001b[0m\u001b[0;34m\u001b[0m\u001b[0m\n\u001b[0;32m--> 345\u001b[0;31m                 \u001b[0;32mreturn\u001b[0m \u001b[0mmethod\u001b[0m\u001b[0;34m(\u001b[0m\u001b[0;34m)\u001b[0m\u001b[0;34m\u001b[0m\u001b[0;34m\u001b[0m\u001b[0m\n\u001b[0m\u001b[1;32m    346\u001b[0m             \u001b[0;32mreturn\u001b[0m \u001b[0;32mNone\u001b[0m\u001b[0;34m\u001b[0m\u001b[0;34m\u001b[0m\u001b[0m\n\u001b[1;32m    347\u001b[0m         \u001b[0;32melse\u001b[0m\u001b[0;34m:\u001b[0m\u001b[0;34m\u001b[0m\u001b[0;34m\u001b[0m\u001b[0m\n",
      "\u001b[0;32m~/dev/datajoint-python/datajoint/expression.py\u001b[0m in \u001b[0;36m_repr_html_\u001b[0;34m(self)\u001b[0m\n\u001b[1;32m    421\u001b[0m \u001b[0;34m\u001b[0m\u001b[0m\n\u001b[1;32m    422\u001b[0m     \u001b[0;32mdef\u001b[0m \u001b[0m_repr_html_\u001b[0m\u001b[0;34m(\u001b[0m\u001b[0mself\u001b[0m\u001b[0;34m)\u001b[0m\u001b[0;34m:\u001b[0m\u001b[0;34m\u001b[0m\u001b[0;34m\u001b[0m\u001b[0m\n\u001b[0;32m--> 423\u001b[0;31m         \u001b[0mheading\u001b[0m \u001b[0;34m=\u001b[0m \u001b[0mself\u001b[0m\u001b[0;34m.\u001b[0m\u001b[0mheading\u001b[0m\u001b[0;34m\u001b[0m\u001b[0;34m\u001b[0m\u001b[0m\n\u001b[0m\u001b[1;32m    424\u001b[0m         \u001b[0mrel\u001b[0m \u001b[0;34m=\u001b[0m \u001b[0mself\u001b[0m\u001b[0;34m.\u001b[0m\u001b[0mproj\u001b[0m\u001b[0;34m(\u001b[0m\u001b[0;34m*\u001b[0m\u001b[0mheading\u001b[0m\u001b[0;34m.\u001b[0m\u001b[0mnon_blobs\u001b[0m\u001b[0;34m)\u001b[0m\u001b[0;34m\u001b[0m\u001b[0;34m\u001b[0m\u001b[0m\n\u001b[1;32m    425\u001b[0m         \u001b[0minfo\u001b[0m \u001b[0;34m=\u001b[0m \u001b[0mheading\u001b[0m\u001b[0;34m.\u001b[0m\u001b[0mtable_info\u001b[0m\u001b[0;34m\u001b[0m\u001b[0;34m\u001b[0m\u001b[0m\n",
      "\u001b[0;32m~/dev/datajoint-python/datajoint/table.py\u001b[0m in \u001b[0;36mheading\u001b[0;34m(self)\u001b[0m\n\u001b[1;32m     52\u001b[0m                     'Missing schema decorator on the class? (e.g. @schema)')\n\u001b[1;32m     53\u001b[0m             \u001b[0;32melse\u001b[0m\u001b[0;34m:\u001b[0m\u001b[0;34m\u001b[0m\u001b[0;34m\u001b[0m\u001b[0m\n\u001b[0;32m---> 54\u001b[0;31m                 \u001b[0mself\u001b[0m\u001b[0;34m.\u001b[0m\u001b[0m_heading\u001b[0m\u001b[0;34m.\u001b[0m\u001b[0minit_from_database\u001b[0m\u001b[0;34m(\u001b[0m\u001b[0mself\u001b[0m\u001b[0;34m.\u001b[0m\u001b[0mconnection\u001b[0m\u001b[0;34m,\u001b[0m \u001b[0mself\u001b[0m\u001b[0;34m.\u001b[0m\u001b[0mdatabase\u001b[0m\u001b[0;34m,\u001b[0m \u001b[0mself\u001b[0m\u001b[0;34m.\u001b[0m\u001b[0mtable_name\u001b[0m\u001b[0;34m)\u001b[0m\u001b[0;34m\u001b[0m\u001b[0;34m\u001b[0m\u001b[0m\n\u001b[0m\u001b[1;32m     55\u001b[0m         \u001b[0;32mreturn\u001b[0m \u001b[0mself\u001b[0m\u001b[0;34m.\u001b[0m\u001b[0m_heading\u001b[0m\u001b[0;34m\u001b[0m\u001b[0;34m\u001b[0m\u001b[0m\n\u001b[1;32m     56\u001b[0m \u001b[0;34m\u001b[0m\u001b[0m\n",
      "\u001b[0;32m~/dev/datajoint-python/datajoint/heading.py\u001b[0m in \u001b[0;36minit_from_database\u001b[0;34m(self, conn, database, table_name)\u001b[0m\n\u001b[1;32m    227\u001b[0m                 \u001b[0;32mexcept\u001b[0m \u001b[0mStopIteration\u001b[0m\u001b[0;34m:\u001b[0m\u001b[0;34m\u001b[0m\u001b[0;34m\u001b[0m\u001b[0m\n\u001b[1;32m    228\u001b[0m                     \u001b[0;32mif\u001b[0m \u001b[0mattr\u001b[0m\u001b[0;34m[\u001b[0m\u001b[0;34m'type'\u001b[0m\u001b[0;34m]\u001b[0m\u001b[0;34m.\u001b[0m\u001b[0mstartswith\u001b[0m\u001b[0;34m(\u001b[0m\u001b[0;34m'external'\u001b[0m\u001b[0;34m)\u001b[0m\u001b[0;34m:\u001b[0m\u001b[0;34m\u001b[0m\u001b[0;34m\u001b[0m\u001b[0m\n\u001b[0;32m--> 229\u001b[0;31m                         \u001b[0;32mraise\u001b[0m \u001b[0mDataJointError\u001b[0m\u001b[0;34m(\u001b[0m\u001b[0;34m'Legacy datatype `{type}`.'\u001b[0m\u001b[0;34m.\u001b[0m\u001b[0mformat\u001b[0m\u001b[0;34m(\u001b[0m\u001b[0;34m**\u001b[0m\u001b[0mattr\u001b[0m\u001b[0;34m)\u001b[0m\u001b[0;34m)\u001b[0m \u001b[0;32mfrom\u001b[0m \u001b[0;32mNone\u001b[0m\u001b[0;34m\u001b[0m\u001b[0;34m\u001b[0m\u001b[0m\n\u001b[0m\u001b[1;32m    230\u001b[0m                     \u001b[0;32mraise\u001b[0m \u001b[0mDataJointError\u001b[0m\u001b[0;34m(\u001b[0m\u001b[0;34m'Unknown attribute type `{type}`'\u001b[0m\u001b[0;34m.\u001b[0m\u001b[0mformat\u001b[0m\u001b[0;34m(\u001b[0m\u001b[0;34m**\u001b[0m\u001b[0mattr\u001b[0m\u001b[0;34m)\u001b[0m\u001b[0;34m)\u001b[0m \u001b[0;32mfrom\u001b[0m \u001b[0;32mNone\u001b[0m\u001b[0;34m\u001b[0m\u001b[0;34m\u001b[0m\u001b[0m\n\u001b[1;32m    231\u001b[0m                 attr.update(\n",
      "\u001b[0;31mDataJointError\u001b[0m: Legacy datatype `external`."
     ]
    }
   ],
   "source": [
    "A()"
   ]
  },
  {
   "cell_type": "code",
   "execution_count": 16,
   "metadata": {},
   "outputs": [],
   "source": [
    "LEGACY_HASH_SIZE = 43\n",
    "\n",
    "legacy_external = dj.FreeTable(\n",
    "    schema.connection,\n",
    "    '`{db}`.`~external`'.format(db=schema.database))"
   ]
  },
  {
   "cell_type": "code",
   "execution_count": 17,
   "metadata": {},
   "outputs": [
    {
     "data": {
      "text/html": [
       "\n",
       "        \n",
       "        <style type=\"text/css\">\n",
       "            .Relation{\n",
       "                border-collapse:collapse;\n",
       "            }\n",
       "            .Relation th{\n",
       "                background: #A0A0A0; color: #ffffff; padding:4px; border:#f0e0e0 1px solid;\n",
       "                font-weight: normal; font-family: monospace; font-size: 100%;\n",
       "            }\n",
       "            .Relation td{\n",
       "                padding:4px; border:#f0e0e0 1px solid; font-size:100%;\n",
       "            }\n",
       "            .Relation tr:nth-child(odd){\n",
       "                background: #ffffff;\n",
       "            }\n",
       "            .Relation tr:nth-child(even){\n",
       "                background: #f3f1ff;\n",
       "            }\n",
       "            /* Tooltip container */\n",
       "            .djtooltip {\n",
       "            }\n",
       "            /* Tooltip text */\n",
       "            .djtooltip .djtooltiptext {\n",
       "                visibility: hidden;\n",
       "                width: 120px;\n",
       "                background-color: black;\n",
       "                color: #fff;\n",
       "                text-align: center;\n",
       "                padding: 5px 0;\n",
       "                border-radius: 6px;\n",
       "                /* Position the tooltip text - see examples below! */\n",
       "                position: absolute;\n",
       "                z-index: 1;\n",
       "            }\n",
       "            #primary {\n",
       "                font-weight: bold;\n",
       "                color: black;\n",
       "            }\n",
       "\n",
       "            #nonprimary {\n",
       "                font-weight: normal;\n",
       "                color: white;\n",
       "            }\n",
       "\n",
       "            /* Show the tooltip text when you mouse over the tooltip container */\n",
       "            .djtooltip:hover .djtooltiptext {\n",
       "                visibility: visible;\n",
       "            }\n",
       "        </style>\n",
       "        \n",
       "        <b>external storage tracking</b>\n",
       "            <div style=\"max-height:1000px;max-width:1500px;overflow:auto;\">\n",
       "            <table border=\"1\" class=\"Relation\">\n",
       "                <thead> <tr style=\"text-align: right;\"> <th> <div class=\"djtooltip\">\n",
       "                                <p id=\"primary\">hash</p>\n",
       "                                <span class=\"djtooltiptext\">the hash of stored object + store name</span>\n",
       "                            </div></th><th><div class=\"djtooltip\">\n",
       "                                <p id=\"nonprimary\">size</p>\n",
       "                                <span class=\"djtooltiptext\">size of object in bytes</span>\n",
       "                            </div></th><th><div class=\"djtooltip\">\n",
       "                                <p id=\"nonprimary\">timestamp</p>\n",
       "                                <span class=\"djtooltiptext\">automatic timestamp</span>\n",
       "                            </div> </th> </tr> </thead>\n",
       "                <tbody> <tr> <td>AbOdLZWSNmvYrfESJci85yLPplWIUM9E7UmyzHg0ApM</td>\n",
       "<td>237</td>\n",
       "<td>2019-07-19 13:22:54</td></tr><tr><td>BEq9eh9LlqkPOKS8PwbqsOX3PTom0MhLmqvlN43yfrsshared</td>\n",
       "<td>53</td>\n",
       "<td>2019-07-19 13:22:54</td></tr><tr><td>FoRROa2LWM6_wx0RIQ0J-LVvgm256cqDQfJa066HoTEshared</td>\n",
       "<td>37</td>\n",
       "<td>2019-07-19 13:22:54</td></tr><tr><td>l3MDivFfPe1GV74Fdyky4YSLVKq3Y4x_U7mtzAReSaUlocal</td>\n",
       "<td>237</td>\n",
       "<td>2019-07-19 13:22:54</td></tr><tr><td>U7u2I13bb6Zx2bC7yn_J8yCYos6fDebQBJhaUf4ho2Eshared</td>\n",
       "<td>53</td>\n",
       "<td>2019-07-19 13:22:54</td></tr><tr><td>_Fhi2GUBB0fgxcSP2q-isgncIUTdgGK7ivHiySAU_94</td>\n",
       "<td>40</td>\n",
       "<td>2019-07-19 13:22:54</td></tr><tr><td>_Fhi2GUBB0fgxcSP2q-isgncIUTdgGK7ivHiySAU_94local</td>\n",
       "<td>40</td>\n",
       "<td>2019-07-19 13:22:54</td> </tr> </tbody>\n",
       "            </table>\n",
       "            \n",
       "            <p>Total: 7</p></div>\n",
       "            "
      ],
      "text/plain": [
       "FreeTable(`djtest_blobs`.`~external`)"
      ]
     },
     "execution_count": 17,
     "metadata": {},
     "output_type": "execute_result"
    }
   ],
   "source": [
    "legacy_external"
   ]
  },
  {
   "cell_type": "code",
   "execution_count": 18,
   "metadata": {},
   "outputs": [],
   "source": [
    "# get referencing tables\n",
    "refs = query(\"\"\"\n",
    "SELECT concat('`', table_schema, '`.`', table_name, '`') as referencing_table, column_name, constraint_name\n",
    "FROM information_schema.key_column_usage\n",
    "WHERE referenced_table_name=\"{tab}\" and referenced_table_schema=\"{db}\"\n",
    "\"\"\".format(tab=legacy_external.table_name, db=legacy_external.database), as_dict=True).fetchall()"
   ]
  },
  {
   "cell_type": "code",
   "execution_count": 19,
   "metadata": {},
   "outputs": [],
   "source": [
    "import re\n",
    "\n",
    "for ref in refs:\n",
    "    # get comment\n",
    "    column = query(\n",
    "        'SHOW FULL COLUMNS FROM {referencing_table}'\n",
    "        'WHERE Field=\"{column_name}\"'.format(**ref), as_dict=True).fetchone()\n",
    "\n",
    "    store, comment = re.match(\n",
    "        r':external(-(?P<store>.+))?:(?P<comment>.*)', \n",
    "        column['Comment']).group('store', 'comment')\n",
    "\n",
    "    # get all the hashes from the reference\n",
    "    hashes = {x[0] for x in query(\n",
    "        'SELECT `{column_name}` FROM {referencing_table}'.format(**ref))}\n",
    "\n",
    "    # sanity check make sure that store suffixes match\n",
    "    if store is None:\n",
    "        assert all(len(_) == LEGACY_HASH_SIZE for _ in hashes)\n",
    "    else:\n",
    "        assert all(_[LEGACY_HASH_SIZE:] == store for _ in hashes)\n",
    "\n",
    "    # create new-style external table\n",
    "    ext = schema.external[store or default_store]\n",
    "\n",
    "    # add the new-style reference field\n",
    "    temp_suffix = 'tempsub'\n",
    "\n",
    "    try:\n",
    "        query(\"\"\"ALTER TABLE {referencing_table} \n",
    "        ADD COLUMN `{column_name}_{temp_suffix}` {type} DEFAULT NULL\n",
    "        COMMENT \":blob@{store}:{comment}\"\n",
    "        \"\"\".format(type=dj.declare.UUID_DATA_TYPE, \n",
    "                   temp_suffix=temp_suffix, \n",
    "                   store=(store or default_store), comment=comment, **ref))\n",
    "    except:\n",
    "        print('Column already added')\n",
    "        pass\n",
    "\n",
    "\n",
    "    # Copy references into the new external table\n",
    "    # No Windows! Backslashes will cause problems\n",
    "\n",
    "    contents_hash_function = {\n",
    "        'file': lambda ext, relative_path: dj.hash.uuid_from_file(os.path.join(ext.spec['location'], relative_path)),\n",
    "        's3': lambda ext, relative_path: dj.hash.uuid_from_buffer(ext.s3.get(relative_path))\n",
    "    }\n",
    "\n",
    "    for _hash, size in zip(*legacy_external.fetch('hash', 'size')):\n",
    "        if _hash in hashes:\n",
    "            relative_path = os.path.join(schema.database, _hash)\n",
    "            uuid = dj.hash.uuid_from_buffer(init_string=relative_path)\n",
    "            ext.insert1(dict(\n",
    "                filepath=relative_path,\n",
    "                size=size,\n",
    "                contents_hash=contents_hash_function[ext.spec['protocol']](ext, relative_path),\n",
    "                hash=uuid\n",
    "            ), skip_duplicates=True)\n",
    "\n",
    "            query('UPDATE {referencing_table} '\n",
    "                  'SET `{column_name}_{temp_suffix}`=%s '\n",
    "                  'WHERE `{column_name}` = \"{_hash}\"'\n",
    "                  .format(_hash=_hash, temp_suffix=temp_suffix, **ref), uuid.bytes)\n",
    "\n",
    "    # check that all have been copied\n",
    "    check = query('SELECT * FROM {referencing_table} '\n",
    "                  'WHERE `{column_name}` IS NOT NULL'\n",
    "                  '  AND `{column_name}_{temp_suffix}` IS NULL'\n",
    "                  .format(temp_suffix=temp_suffix, **ref)).fetchall()\n",
    "\n",
    "    assert len(check) == 0, 'Some hashes havent been migrated'\n",
    "\n",
    "    # drop old foreign key, rename, and create new foreign key\n",
    "    query(\"\"\"\n",
    "        ALTER TABLE {referencing_table}\n",
    "        DROP FOREIGN KEY `{constraint_name}`,\n",
    "        DROP COLUMN `{column_name}`,\n",
    "        CHANGE COLUMN `{column_name}_{temp_suffix}` `{column_name}` {type} DEFAULT NULL\n",
    "             COMMENT \":blob@{store}:{comment}\",\n",
    "        ADD FOREIGN KEY (`{column_name}`) REFERENCES {ext_table_name} (`hash`)\n",
    "        \"\"\".format(temp_suffix=temp_suffix, \n",
    "                   ext_table_name=ext.full_table_name, \n",
    "                  type=dj.declare.UUID_DATA_TYPE, \n",
    "                  store=(store or default_store), comment=comment, **ref))"
   ]
  },
  {
   "cell_type": "code",
   "execution_count": 20,
   "metadata": {},
   "outputs": [
    {
     "data": {
      "text/html": [
       "\n",
       "        \n",
       "        <style type=\"text/css\">\n",
       "            .Relation{\n",
       "                border-collapse:collapse;\n",
       "            }\n",
       "            .Relation th{\n",
       "                background: #A0A0A0; color: #ffffff; padding:4px; border:#f0e0e0 1px solid;\n",
       "                font-weight: normal; font-family: monospace; font-size: 100%;\n",
       "            }\n",
       "            .Relation td{\n",
       "                padding:4px; border:#f0e0e0 1px solid; font-size:100%;\n",
       "            }\n",
       "            .Relation tr:nth-child(odd){\n",
       "                background: #ffffff;\n",
       "            }\n",
       "            .Relation tr:nth-child(even){\n",
       "                background: #f3f1ff;\n",
       "            }\n",
       "            /* Tooltip container */\n",
       "            .djtooltip {\n",
       "            }\n",
       "            /* Tooltip text */\n",
       "            .djtooltip .djtooltiptext {\n",
       "                visibility: hidden;\n",
       "                width: 120px;\n",
       "                background-color: black;\n",
       "                color: #fff;\n",
       "                text-align: center;\n",
       "                padding: 5px 0;\n",
       "                border-radius: 6px;\n",
       "                /* Position the tooltip text - see examples below! */\n",
       "                position: absolute;\n",
       "                z-index: 1;\n",
       "            }\n",
       "            #primary {\n",
       "                font-weight: bold;\n",
       "                color: black;\n",
       "            }\n",
       "\n",
       "            #nonprimary {\n",
       "                font-weight: normal;\n",
       "                color: white;\n",
       "            }\n",
       "\n",
       "            /* Show the tooltip text when you mouse over the tooltip container */\n",
       "            .djtooltip:hover .djtooltiptext {\n",
       "                visibility: visible;\n",
       "            }\n",
       "        </style>\n",
       "        \n",
       "        <b>external storage tracking</b>\n",
       "            <div style=\"max-height:1000px;max-width:1500px;overflow:auto;\">\n",
       "            <table border=\"1\" class=\"Relation\">\n",
       "                <thead> <tr style=\"text-align: right;\"> <th> <div class=\"djtooltip\">\n",
       "                                <p id=\"primary\">hash</p>\n",
       "                                <span class=\"djtooltiptext\">the hash of stored object + store name</span>\n",
       "                            </div></th><th><div class=\"djtooltip\">\n",
       "                                <p id=\"nonprimary\">size</p>\n",
       "                                <span class=\"djtooltiptext\">size of object in bytes</span>\n",
       "                            </div></th><th><div class=\"djtooltip\">\n",
       "                                <p id=\"nonprimary\">timestamp</p>\n",
       "                                <span class=\"djtooltiptext\">automatic timestamp</span>\n",
       "                            </div> </th> </tr> </thead>\n",
       "                <tbody> <tr> <td>AbOdLZWSNmvYrfESJci85yLPplWIUM9E7UmyzHg0ApM</td>\n",
       "<td>237</td>\n",
       "<td>2019-07-19 13:22:54</td></tr><tr><td>BEq9eh9LlqkPOKS8PwbqsOX3PTom0MhLmqvlN43yfrsshared</td>\n",
       "<td>53</td>\n",
       "<td>2019-07-19 13:22:54</td></tr><tr><td>FoRROa2LWM6_wx0RIQ0J-LVvgm256cqDQfJa066HoTEshared</td>\n",
       "<td>37</td>\n",
       "<td>2019-07-19 13:22:54</td></tr><tr><td>l3MDivFfPe1GV74Fdyky4YSLVKq3Y4x_U7mtzAReSaUlocal</td>\n",
       "<td>237</td>\n",
       "<td>2019-07-19 13:22:54</td></tr><tr><td>U7u2I13bb6Zx2bC7yn_J8yCYos6fDebQBJhaUf4ho2Eshared</td>\n",
       "<td>53</td>\n",
       "<td>2019-07-19 13:22:54</td></tr><tr><td>_Fhi2GUBB0fgxcSP2q-isgncIUTdgGK7ivHiySAU_94</td>\n",
       "<td>40</td>\n",
       "<td>2019-07-19 13:22:54</td></tr><tr><td>_Fhi2GUBB0fgxcSP2q-isgncIUTdgGK7ivHiySAU_94local</td>\n",
       "<td>40</td>\n",
       "<td>2019-07-19 13:22:54</td> </tr> </tbody>\n",
       "            </table>\n",
       "            \n",
       "            <p>Total: 7</p></div>\n",
       "            "
      ],
      "text/plain": [
       "FreeTable(`djtest_blobs`.`~external`)"
      ]
     },
     "execution_count": 20,
     "metadata": {},
     "output_type": "execute_result"
    }
   ],
   "source": [
    "legacy_external"
   ]
  },
  {
   "cell_type": "code",
   "execution_count": 23,
   "metadata": {},
   "outputs": [],
   "source": [
    "# Drop the old external table but make sure it's no longer referenced\n",
    "# get referencing tables\n",
    "refs = query(\"\"\"\n",
    "SELECT concat('`', table_schema, '`.`', table_name, '`') as referencing_table, column_name, constraint_name\n",
    "FROM information_schema.key_column_usage\n",
    "WHERE referenced_table_name=\"{tab}\" and referenced_table_schema=\"{db}\"\n",
    "\"\"\".format(tab=legacy_external.table_name, db=legacy_external.database), as_dict=True).fetchall()\n",
    "\n",
    "assert not refs, 'Some references still exist'"
   ]
  },
  {
   "cell_type": "code",
   "execution_count": 26,
   "metadata": {},
   "outputs": [],
   "source": [
    "# drop old external table\n",
    "legacy_external.drop_quick()"
   ]
  },
  {
   "cell_type": "code",
   "execution_count": 36,
   "metadata": {},
   "outputs": [
    {
     "data": {
      "text/html": [
       "\n",
       "        \n",
       "        <style type=\"text/css\">\n",
       "            .Relation{\n",
       "                border-collapse:collapse;\n",
       "            }\n",
       "            .Relation th{\n",
       "                background: #A0A0A0; color: #ffffff; padding:4px; border:#f0e0e0 1px solid;\n",
       "                font-weight: normal; font-family: monospace; font-size: 100%;\n",
       "            }\n",
       "            .Relation td{\n",
       "                padding:4px; border:#f0e0e0 1px solid; font-size:100%;\n",
       "            }\n",
       "            .Relation tr:nth-child(odd){\n",
       "                background: #ffffff;\n",
       "            }\n",
       "            .Relation tr:nth-child(even){\n",
       "                background: #f3f1ff;\n",
       "            }\n",
       "            /* Tooltip container */\n",
       "            .djtooltip {\n",
       "            }\n",
       "            /* Tooltip text */\n",
       "            .djtooltip .djtooltiptext {\n",
       "                visibility: hidden;\n",
       "                width: 120px;\n",
       "                background-color: black;\n",
       "                color: #fff;\n",
       "                text-align: center;\n",
       "                padding: 5px 0;\n",
       "                border-radius: 6px;\n",
       "                /* Position the tooltip text - see examples below! */\n",
       "                position: absolute;\n",
       "                z-index: 1;\n",
       "            }\n",
       "            #primary {\n",
       "                font-weight: bold;\n",
       "                color: black;\n",
       "            }\n",
       "\n",
       "            #nonprimary {\n",
       "                font-weight: normal;\n",
       "                color: white;\n",
       "            }\n",
       "\n",
       "            /* Show the tooltip text when you mouse over the tooltip container */\n",
       "            .djtooltip:hover .djtooltiptext {\n",
       "                visibility: visible;\n",
       "            }\n",
       "        </style>\n",
       "        \n",
       "        <b>external storage tracking</b>\n",
       "            <div style=\"max-height:1000px;max-width:1500px;overflow:auto;\">\n",
       "            <table border=\"1\" class=\"Relation\">\n",
       "                <thead> <tr style=\"text-align: right;\"> <th> <div class=\"djtooltip\">\n",
       "                                <p id=\"primary\">hash</p>\n",
       "                                <span class=\"djtooltiptext\">hash of contents (blob), of filename + contents (attach), or relative filepath (filepath)</span>\n",
       "                            </div></th><th><div class=\"djtooltip\">\n",
       "                                <p id=\"nonprimary\">size</p>\n",
       "                                <span class=\"djtooltiptext\">size of object in bytes</span>\n",
       "                            </div></th><th><div class=\"djtooltip\">\n",
       "                                <p id=\"nonprimary\">filepath</p>\n",
       "                                <span class=\"djtooltiptext\">relative filepath used in the filepath datatype</span>\n",
       "                            </div></th><th><div class=\"djtooltip\">\n",
       "                                <p id=\"nonprimary\">contents_hash</p>\n",
       "                                <span class=\"djtooltiptext\">used for the filepath datatype</span>\n",
       "                            </div></th><th><div class=\"djtooltip\">\n",
       "                                <p id=\"nonprimary\">timestamp</p>\n",
       "                                <span class=\"djtooltiptext\">automatic timestamp</span>\n",
       "                            </div> </th> </tr> </thead>\n",
       "                <tbody> <tr> <td>83186db4-c969-0298-3ec8-1da403c715d5</td>\n",
       "<td>40</td>\n",
       "<td>djtest_blobs/_Fhi2GUBB0fgxcSP2q-isgncIUTdgGK7ivHiySAU_94</td>\n",
       "<td>069fe219-23b4-62e5-fbfe-da572fc47f7d</td>\n",
       "<td>2019-07-19 13:34:30</td></tr><tr><td>b052bba1-018d-ec41-3c35-33bb7df4cb90</td>\n",
       "<td>237</td>\n",
       "<td>None</td>\n",
       "<td>None</td>\n",
       "<td>2019-07-19 13:41:29</td></tr><tr><td>d4b9b701-b577-d088-e6f7-135f060b9cfb</td>\n",
       "<td>237</td>\n",
       "<td>djtest_blobs/AbOdLZWSNmvYrfESJci85yLPplWIUM9E7UmyzHg0ApM</td>\n",
       "<td>69391462-c54e-1f19-2f78-7f3f2eccb9b9</td>\n",
       "<td>2019-07-19 13:34:30</td></tr><tr><td>ea5894dc-3a46-5ebe-4bbd-e80ebf08b161</td>\n",
       "<td>53</td>\n",
       "<td>None</td>\n",
       "<td>None</td>\n",
       "<td>2019-07-19 13:41:29</td> </tr> </tbody>\n",
       "            </table>\n",
       "            \n",
       "            <p>Total: 4</p></div>\n",
       "            "
      ],
      "text/plain": [
       "*hash          size     filepath       contents_hash  timestamp     \n",
       "+------------+ +------+ +------------+ +------------+ +------------+\n",
       "83186db4-c969- 40       djtest_blobs/_ 069fe219-23b4- 2019-07-19 13:\n",
       "b052bba1-018d- 237      None           None           2019-07-19 13:\n",
       "d4b9b701-b577- 237      djtest_blobs/A 69391462-c54e- 2019-07-19 13:\n",
       "ea5894dc-3a46- 53       None           None           2019-07-19 13:\n",
       " (Total: 4)"
      ]
     },
     "execution_count": 36,
     "metadata": {},
     "output_type": "execute_result"
    }
   ],
   "source": [
    "schema.external['external']"
   ]
  },
  {
   "cell_type": "code",
   "execution_count": 35,
   "metadata": {},
   "outputs": [],
   "source": [
    "import datajoint as dj\n",
    "\n",
    "dj.config['database.password'] = 'datajoint'\n",
    "dj.config['database.user'] = 'datajoint'\n",
    "dj.config['database.host'] = 'localhost'\n",
    "\n",
    "schema = dj.schema('djtest_blobs')\n",
    "query = schema.connection.query"
   ]
  },
  {
   "cell_type": "code",
   "execution_count": null,
   "metadata": {},
   "outputs": [],
   "source": [
    "schema.spawn_missing_classes()"
   ]
  },
  {
   "cell_type": "code",
   "execution_count": null,
   "metadata": {},
   "outputs": [],
   "source": [
    "dj.ERD(schema)"
   ]
  },
  {
   "cell_type": "code",
   "execution_count": 32,
   "metadata": {},
   "outputs": [],
   "source": [
    "import numpy as np"
   ]
  },
  {
   "cell_type": "code",
   "execution_count": 33,
   "metadata": {},
   "outputs": [],
   "source": [
    "A.insert((\n",
    "    (2, np.random.randn(2,3,4), np.random.randn(3)),\n",
    "    (3, np.array([1,2,3]), np.array([1,2]))\n",
    "))"
   ]
  },
  {
   "cell_type": "code",
   "execution_count": null,
   "metadata": {},
   "outputs": [],
   "source": [
    "A.fetch('blob_share')"
   ]
  },
  {
   "cell_type": "code",
   "execution_count": null,
   "metadata": {},
   "outputs": [],
   "source": [
    "import os"
   ]
  },
  {
   "cell_type": "code",
   "execution_count": null,
   "metadata": {},
   "outputs": [],
   "source": [
    "os.path.join('one', 'two', 'three\\\\four')"
   ]
  },
  {
   "cell_type": "code",
   "execution_count": null,
   "metadata": {},
   "outputs": [],
   "source": []
  }
 ],
 "metadata": {
  "kernelspec": {
   "display_name": "Python 3",
   "language": "python",
   "name": "python3"
  },
  "language_info": {
   "codemirror_mode": {
    "name": "ipython",
    "version": 3
   },
   "file_extension": ".py",
   "mimetype": "text/x-python",
   "name": "python",
   "nbconvert_exporter": "python",
   "pygments_lexer": "ipython3",
   "version": "3.6.7"
  }
 },
 "nbformat": 4,
 "nbformat_minor": 2
}
