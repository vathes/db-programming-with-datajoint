{
 "cells": [
  {
   "cell_type": "markdown",
   "metadata": {},
   "source": [
    "# Welcome to DataJoint\n",
    "DataJoint for Python 3 is a full-featured relational database programming sublanguage.\n",
    "\n",
    "It is designed for work with scientific data and computational data pipelines. This tutorial assumes intermediate programming proficiency in Python. "
   ]
  },
  {
   "cell_type": "markdown",
   "metadata": {},
   "source": [
    "## Contents\n",
    "\n",
    "### 0. Setup \n",
    "| | | | |\n",
    "|:--|:--|:--|:--|\n",
    "| [Set up and Connect](010-Setup.ipynb) | <p align=\"left\">install datajoint, configure database connection, `dj.config`, authentication, change password, save configuration, secure connection | [Administration](020-Admin.ipynb) | <p align=\"left\">configure database server, create user accounts, user privileges"
   ]
  },
  {
   "cell_type": "markdown",
   "metadata": {},
   "source": [
    "### 1. Work with Individual Tables\n",
    "| | | | |\n",
    "|:--|:--|:--|:--|\n",
    "| [Create a Schema](100-Schema.ipynb) | <p align=\"left\"> `dj.schema` | [Define a Table](110-Table.ipynb) |  <p align=\"left\"> table class, simple attributes types, primary and secondary attributes, `insert`, `insert1`, `delete`, `describe`.\n",
    "| [Fetch](120-Fetch.ipynb)| <p align=\"left\"> `fetch`, `fetch1`, `head`, `tail`, `len` | [Restrict and project](130-Restrict-Project.ipynb) | <p align=\"left\"> `&`, `-`, `.proj`, `AndList`, restricted `delete`.\n",
    "| [More Attribute Types](MoreTypes.ipynb) | <p align=\"left\"> `uuid`, `raw`| [Blobs](130-Blobs.ipynb) | <p align=\"left\"> storing complex data \n",
    "| [Attachments](135-Attach.ipynb) | <p align=\"left\"> attaching files | [Lookup Tables](135-Lookup.ipynb) | <p align=\"left\"> specifying fixed contents | \n",
    "| [External Storage](160-External.ipynb) | <p align=\"left\"> storing blobs and attachments in external filesystems and AWS S3 | [File Management](170-Filepath.ipynb) | <p align=\"left\"> tracking files in an external repository\n",
    "| [Adapted Attribute Types](180-AdaptedTypes.ipynb) | <p align=\"left\"> user-defined attribute types | [Redefining Tables](185-Redefine.ipynb) | <p align=\"left\"> `drop`, `alter`\n",
    "| [Secondary Indexes](188-SecondaryIndexes.ipynb) | <p align=\"left\"> secondary indexes | [Transactions](190-Transactions.ipynb) | <p align=\"left\"> Transactions \n",
    "| [Log](195-Log.ipynb) | <p align=\"left\"> The log table"
   ]
  },
  {
   "cell_type": "markdown",
   "metadata": {},
   "source": [
    "### 2. Work with Multiple Tables\n",
    "| | | | |\n",
    "|:--|:--|:--|:--|\n",
    "| [Schemas and Modules](200-SchemaModules.ipynb) | <p align=\"left\"> correspondence between schemas and modules | [Dependencies](210-Dependencies.ipynb) |  <p align=\"left\"> primary and secondary dependencies, referential constraints, cascading deletes\n",
    "| [Work with Existing Schemas](220-Existing.ipynb) | <p align=\"left\"> `dj.list_schemas`, `schema.spawn_missing_classes`, `dj.create_virtual_modules` | [Diagramming](230-Diagramming.ipynb) | `dj.Diagram`, graph algebra, multi-schema databases |\n",
    "| [Join and Restrict](240-Join.ipynb) | <p align=\"left\">`*`, using `proj` to control join | [Aggregate](250-Aggregate.ipynb) | <p align=\"left\">`.aggr`\n",
    "| [Hierarchical Relationships](250-Nested.ipynb) | <p align=\"left\"> modeling hierarchical or nested data | [Dimensional Relationships](255-Dimensional.ipynb) | <p align=\"left\"> modeling dimensional relationships \n",
    "| [Master-part Relationships](Master-Part.ipynb) | <p align=\"left\"> modeling master-part relationships | [Specialization Relationships](260-Specialization.ipynb) | <p align=\"left\"> modeling specialization relationships |\n",
    "| [Derived Dependencies](270-DerivedDependencies.ipynb) | <p align=\"left\"> dependencies on query expressions  | [Dependency Properties](274-DependencyProperties.ipynb) | <p align=\"left\"> `unique` and `nullable` dependencies\n",
    "| [Association Relationships](276-Associations.ipynb) | <p align=\"left\"> modeling associations between entities | [Cyclic Relationships](278-Cyclic.ipynb) | <p align=\"left\"> modeling cyclic relationships | \n",
    "| [Universal sets](280-U.ipynb) | <p align=\"left\"> `dj.U` in restrictions, aggregations, and joins | [Union](282-Union.ipynb) | <p align=\"left\"> `+` \n"
   ]
  },
  {
   "cell_type": "markdown",
   "metadata": {},
   "source": [
    "### 3. Computations\n",
    "| | | | |\n",
    "|:--|:--|:--|:--|\n",
    "| [Populate](300-SchemaModules.ipynb) | <p align=\"left\"> The `populate` method and the `make` callback in `dj.Imported` and `dj.Computed` tables. | [Distributed Computations](310-Distributed) | <p align=\"left\"> Using `populate` with `reserve_jobs=True`\n",
    "| [Jobs Table](320-Jobs.ipynb) | <p align=\"left\"> Working with `schema.jobs` table and `dj.kill` | [Master-Part Computations](330-MasterPart.ipynb) | <p align=\"left\"> Computations in a master-part relationship\n",
    "| [Computation Parameters](340-Parameters.ipynb) | <p align=\"left\"> Computation parameters and versions | [Key Source](350-KeySource.ipynb) | <p align=\"left\"> Controlling the scope and granularity of computing jobs with `key_source`\n",
    "| [Offline Jobs](360-OfflineJobs.ipynb) | <p align=\"left\"> work with no database connection"
   ]
  },
  {
   "cell_type": "markdown",
   "metadata": {},
   "source": [
    "### 4. Interfaces & Applications\n",
    "| | | | |\n",
    "|:--|:--|:--|:--|\n",
    "| [Export](410-Export.ipynb) | <p align=\"left\"> exporting data for dataset sharing | [Web GUIs](440-WebGUIs.ipynb) | <p align=\"left\"> wen interfaces\n"
   ]
  }
 ],
 "metadata": {
  "kernelspec": {
   "display_name": "Python 3",
   "language": "python",
   "name": "python3"
  },
  "language_info": {
   "codemirror_mode": {
    "name": "ipython",
    "version": 3
   },
   "file_extension": ".py",
   "mimetype": "text/x-python",
   "name": "python",
   "nbconvert_exporter": "python",
   "pygments_lexer": "ipython3",
   "version": "3.7.3"
  }
 },
 "nbformat": 4,
 "nbformat_minor": 2
}
